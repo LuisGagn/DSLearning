{
 "cells": [
  {
   "cell_type": "markdown",
   "id": "681573f7-de05-42dc-bbb6-790694d36717",
   "metadata": {},
   "source": [
    "# Learning Lineal Algebra with Python \n",
    "\n",
    "Here I will re-learn and apply some fundamentals from lineal algebra using Numpy and Python.  \n",
    "The objective is to deeply understand the math behind LLM and learning useful things I will be able to use on my work basis.  \n",
    "\n",
    "We will be using the book: [Linear Algebra Foundations to Frontiers](http://www.ulaff.net/LAFF-N2LW-Spring14.html) from 2014 that uses python.  \n"
   ]
  },
  {
   "cell_type": "markdown",
   "id": "e37e03da-db99-48ec-8414-3a398d5a0455",
   "metadata": {},
   "source": [
    "## Vectors\n",
    "\n",
    "### Definitions\n",
    "A vector is a one dimensional array of n numbers.  \n",
    "A vector has its own direction and length, but not a location.  \n",
    "The order of the components is important.\n",
    "The length is calculed by the euclidian length   \n",
    " $\\sqrt{X_0^2+X_1^2+...+X_{n-1}^2}$\n",
    "\n",
    "It is denoted by $||x||_2$ called the two norm. \n",
    "\n",
    "### Operations\n",
    "\n",
    "**Addition**  \n",
    "The addition of two vectors are added element wise and they must be the same size.  \n",
    "\n",
    "**Scaling**  \n",
    "Multiplying a vector x by an scalar k yields a new vector kx in the same direction as x but scaled by a factor k.  \n",
    "It means multiplying each element of x by k.   \n",
    "\n",
    "**Substraction**  \n",
    "Substraction of two vectors x and y like x-y is the same as x+(-y).  \n",
    "\n",
    "**Linear combination of vectors**  \n",
    "ax+by = a(all elements of x) + b(all elementos of y)\n",
    "\n",
    "**Dot or inner product**  \n",
    "*dot(x,y)= $\\sum_{i=0}^{n-1} X_iY_i = X_0Y_0+X_1Y_1+...+X_{n-1}Y_{n-1}$*  \n",
    "Its also written as $x^Ty$\n"
   ]
  },
  {
   "cell_type": "code",
   "execution_count": 14,
   "id": "a0220e85-596f-4790-9ca1-086def1ac62b",
   "metadata": {},
   "outputs": [
    {
     "name": "stdout",
     "output_type": "stream",
     "text": [
      "a: [1 2 3]\n",
      "a: [6 5 4]\n",
      "Addition\n",
      "a+b: [7 7 7]\n",
      "Substraction\n",
      "a-b: [-5 -3 -1]\n",
      "Scaling\n",
      "2a: [2 4 6]\n",
      "Linear combination\n",
      "2a+3b: [20 19 18]\n",
      "Multiplication\n",
      "b*a: [ 6 10 12]\n",
      "Dot\n",
      "dot(a,b): 28\n"
     ]
    }
   ],
   "source": [
    "import numpy as np\n",
    "\n",
    "a = np.array([1,2,3])\n",
    "b = np.array([6,5,4])\n",
    "print(f\"a: {a}\")\n",
    "print(f\"a: {b}\")\n",
    "\n",
    "# Addition \n",
    "print(\"Addition\")\n",
    "print(f\"a+b: {a+b}\")\n",
    "\n",
    "# Substraction \n",
    "print(\"Substraction\")\n",
    "print(f\"a-b: {a-b}\")\n",
    "\n",
    "# Scaling \n",
    "print(\"Scaling\")\n",
    "print(f\"2a: {2*a}\")\n",
    "\n",
    "# Linear combi \n",
    "print(\"Linear combination\")\n",
    "print(f\"2a+3b: {2*a+3*b}\")\n",
    "\n",
    "#Multiplication\n",
    "print(\"Multiplication\")\n",
    "print(f\"b*a: {a*b}\")\n",
    "\n",
    "#Dot\n",
    "print(\"Dot\")\n",
    "print(f\"dot(a,b): {np.dot(a,b)}\")\n"
   ]
  },
  {
   "cell_type": "markdown",
   "id": "9ab4063f-6cf7-478d-991d-37ba144526c9",
   "metadata": {},
   "source": [
    "## Linear transformations and matrixes\n",
    "\n"
   ]
  }
 ],
 "metadata": {
  "kernelspec": {
   "display_name": "Python [conda env:base] *",
   "language": "python",
   "name": "conda-base-py"
  },
  "language_info": {
   "codemirror_mode": {
    "name": "ipython",
    "version": 3
   },
   "file_extension": ".py",
   "mimetype": "text/x-python",
   "name": "python",
   "nbconvert_exporter": "python",
   "pygments_lexer": "ipython3",
   "version": "3.13.5"
  }
 },
 "nbformat": 4,
 "nbformat_minor": 5
}
